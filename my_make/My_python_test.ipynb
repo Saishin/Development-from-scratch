{
 "cells": [
  {
   "cell_type": "code",
   "execution_count": 3,
   "metadata": {},
   "outputs": [
    {
     "name": "stdout",
     "output_type": "stream",
     "text": [
      "Alex\n",
      "aaa@docomo.ne.jp\n"
     ]
    }
   ],
   "source": [
    "class Person():\n",
    "    def __init__(self , name):\n",
    "        self.name = name\n",
    "        \n",
    "class EmailPerson(Person):\n",
    "    def __init__(self , name , email):\n",
    "        super().__init__(name)\n",
    "        self.email = email\n",
    "        \n",
    "bob = EmailPerson('Alex' , 'aaa@docomo.ne.jp')\n",
    "print(bob.name)\n",
    "print(bob.email)\n",
    "        "
   ]
  },
  {
   "cell_type": "markdown",
   "metadata": {},
   "source": [
    "何かの特別な処理をつけるとかには@propertyと@hoge.setterを使う"
   ]
  },
  {
   "cell_type": "code",
   "execution_count": 7,
   "metadata": {},
   "outputs": [],
   "source": [
    "'''\n",
    "ここでやっているのは、@propertyで宣言したものをオブジェクトの引数に定義し直さなくてもできるようにしている\n",
    "'''\n",
    "\n",
    "class Duck():\n",
    "    def __init__(self , input_name):\n",
    "        self.hidden_name = input_name\n",
    "        \n",
    "    @property\n",
    "    def name(self):\n",
    "        print('inside the getter')\n",
    "        return self.hidden_name\n",
    "        \n",
    "    @name.setter\n",
    "    def name(self , input_name):\n",
    "        print('inside the getter')\n",
    "        self.hidden_name = input_name"
   ]
  },
  {
   "cell_type": "code",
   "execution_count": 8,
   "metadata": {},
   "outputs": [
    {
     "name": "stdout",
     "output_type": "stream",
     "text": [
      "inside the getter\n",
      "alex\n",
      "inside the getter\n",
      "inside the getter\n",
      "bob\n"
     ]
    }
   ],
   "source": [
    "fowl  =Duck('alex')\n",
    "##オブジェクトに指定した引数に対しての処理\n",
    "print(fowl.name)\n",
    "####オブジェクトを定義した後に引数に関してオブジェクトを定義し直さなくても@setterによって定義できている\n",
    "fowl.name = 'bob'\n",
    "print(fowl.name)"
   ]
  },
  {
   "cell_type": "markdown",
   "metadata": {},
   "source": [
    "こういう使い方もある"
   ]
  },
  {
   "cell_type": "code",
   "execution_count": 30,
   "metadata": {},
   "outputs": [
    {
     "name": "stdout",
     "output_type": "stream",
     "text": [
      "the age is\n",
      "199\n"
     ]
    },
    {
     "ename": "ValueError",
     "evalue": "age must be <= 200",
     "output_type": "error",
     "traceback": [
      "\u001b[0;31m---------------------------------------------------------------------------\u001b[0m",
      "\u001b[0;31mValueError\u001b[0m                                Traceback (most recent call last)",
      "\u001b[0;32m<ipython-input-30-697b044cda49>\u001b[0m in \u001b[0;36m<module>\u001b[0;34m()\u001b[0m\n\u001b[1;32m     25\u001b[0m     \u001b[0muser3\u001b[0m  \u001b[0;34m=\u001b[0m\u001b[0mUser3\u001b[0m\u001b[0;34m(\u001b[0m\u001b[0;36m199\u001b[0m\u001b[0;34m)\u001b[0m\u001b[0;34m\u001b[0m\u001b[0;34m\u001b[0m\u001b[0m\n\u001b[1;32m     26\u001b[0m     \u001b[0mprint\u001b[0m\u001b[0;34m(\u001b[0m\u001b[0muser3\u001b[0m\u001b[0;34m.\u001b[0m\u001b[0mage\u001b[0m\u001b[0;34m)\u001b[0m\u001b[0;34m\u001b[0m\u001b[0;34m\u001b[0m\u001b[0m\n\u001b[0;32m---> 27\u001b[0;31m     \u001b[0muser3\u001b[0m\u001b[0;34m.\u001b[0m\u001b[0mage\u001b[0m \u001b[0;34m=\u001b[0m \u001b[0;36m201\u001b[0m\u001b[0;34m\u001b[0m\u001b[0;34m\u001b[0m\u001b[0m\n\u001b[0m\u001b[1;32m     28\u001b[0m     \u001b[0mprint\u001b[0m\u001b[0;34m(\u001b[0m\u001b[0muser3\u001b[0m\u001b[0;34m.\u001b[0m\u001b[0mage\u001b[0m\u001b[0;34m)\u001b[0m\u001b[0;34m\u001b[0m\u001b[0;34m\u001b[0m\u001b[0m\n",
      "\u001b[0;32m<ipython-input-30-697b044cda49>\u001b[0m in \u001b[0;36mage\u001b[0;34m(self, age)\u001b[0m\n\u001b[1;32m     15\u001b[0m     \u001b[0;32mdef\u001b[0m \u001b[0mage\u001b[0m\u001b[0;34m(\u001b[0m\u001b[0mself\u001b[0m\u001b[0;34m,\u001b[0m \u001b[0mage\u001b[0m\u001b[0;34m)\u001b[0m\u001b[0;34m:\u001b[0m\u001b[0;34m\u001b[0m\u001b[0;34m\u001b[0m\u001b[0m\n\u001b[1;32m     16\u001b[0m         \u001b[0;32mif\u001b[0m \u001b[0mage\u001b[0m \u001b[0;34m>\u001b[0m \u001b[0;36m200\u001b[0m\u001b[0;34m:\u001b[0m\u001b[0;34m\u001b[0m\u001b[0;34m\u001b[0m\u001b[0m\n\u001b[0;32m---> 17\u001b[0;31m             \u001b[0;32mraise\u001b[0m \u001b[0mValueError\u001b[0m\u001b[0;34m(\u001b[0m\u001b[0;34m'age must be <= 200'\u001b[0m\u001b[0;34m)\u001b[0m\u001b[0;34m\u001b[0m\u001b[0;34m\u001b[0m\u001b[0m\n\u001b[0m\u001b[1;32m     18\u001b[0m \u001b[0;34m\u001b[0m\u001b[0m\n\u001b[1;32m     19\u001b[0m         \u001b[0;32melse\u001b[0m\u001b[0;34m:\u001b[0m\u001b[0;34m\u001b[0m\u001b[0;34m\u001b[0m\u001b[0m\n",
      "\u001b[0;31mValueError\u001b[0m: age must be <= 200"
     ]
    }
   ],
   "source": [
    "class User3():\n",
    "    '''\n",
    "    年齢を引数にとって、@setterを使うことで、その引数の例外処理を起こせるようにしている\n",
    "    '''\n",
    "    \n",
    "    def __init__(self, age):\n",
    "        self.hidden_age = age\n",
    "\n",
    "    @property\n",
    "    def age(self):\n",
    "        print('the age is')\n",
    "        return self.hidden_age\n",
    "\n",
    "    @age.setter\n",
    "    def age(self, age):\n",
    "        if age > 200:\n",
    "            raise ValueError('age must be <= 200')\n",
    "            \n",
    "        else:\n",
    "            print('the age is')\n",
    "            self.hidden_age = age\n",
    "\n",
    "\n",
    "if __name__ == '__main__':\n",
    "    user3  =User3(199)\n",
    "    print(user3.age)\n",
    "    user3.age = 201\n",
    "    print(user3.age)"
   ]
  },
  {
   "cell_type": "code",
   "execution_count": 35,
   "metadata": {},
   "outputs": [
    {
     "name": "stdout",
     "output_type": "stream",
     "text": [
      "{'a': 1, 'b': 2, 'c': 3, 'd': 4, 'e': 5}\n"
     ]
    },
    {
     "data": {
      "text/plain": [
       "5"
      ]
     },
     "execution_count": 35,
     "metadata": {},
     "output_type": "execute_result"
    }
   ],
   "source": [
    "'''辞書についての動作'''\n",
    "pythons = {'a':1 , 'b':2 , 'c':3}\n",
    "phps = {'d':4 , 'e':5}\n",
    "\n",
    "##辞書同士を一つの辞書にする\n",
    "pythons.update(phps)\n",
    "print(pythons)\n",
    "pythons['e']"
   ]
  },
  {
   "cell_type": "code",
   "execution_count": 36,
   "metadata": {},
   "outputs": [
    {
     "data": {
      "text/plain": [
       "dict_keys(['a', 'b', 'c', 'd', 'e'])"
      ]
     },
     "execution_count": 36,
     "metadata": {},
     "output_type": "execute_result"
    }
   ],
   "source": [
    "##キーの取得\n",
    "pythons.keys()"
   ]
  },
  {
   "cell_type": "code",
   "execution_count": 45,
   "metadata": {},
   "outputs": [
    {
     "name": "stdout",
     "output_type": "stream",
     "text": [
      "[100, 2, 3, 4, 5]\n",
      "{'a': 'hoge', 'b': 2, 'c': 3, 'd': 4, 'e': 5}\n"
     ]
    }
   ],
   "source": [
    "list_a = list([1,2,3,4,5])\n",
    "list_b = list_a\n",
    "list_b[0] = 100\n",
    "print(list_a)\n",
    "\n",
    "##同様に辞書の場合\n",
    "pythons_2 = pythons\n",
    "pythons_2['a'] = 'hoge'\n",
    "print(pythons)"
   ]
  },
  {
   "cell_type": "code",
   "execution_count": 46,
   "metadata": {},
   "outputs": [
    {
     "data": {
      "text/plain": [
       "array([100,   2,   3,   4,   5])"
      ]
     },
     "execution_count": 46,
     "metadata": {},
     "output_type": "execute_result"
    }
   ],
   "source": [
    "import numpy as np\n",
    "\n",
    "a_np = np.array([1,2,3,4,5])\n",
    "b_np = a_np\n",
    "b_np[0] = 100\n",
    "a_np"
   ]
  },
  {
   "cell_type": "markdown",
   "metadata": {},
   "source": [
    "このようにpythonでは、変数の「=」での代入は元の変数も変わってしまい危ないので、これを回避したい時は、.copy()を使う"
   ]
  },
  {
   "cell_type": "code",
   "execution_count": 47,
   "metadata": {},
   "outputs": [
    {
     "name": "stdout",
     "output_type": "stream",
     "text": [
      "[1, 2, 3, 4, 5]\n",
      "[100, 2, 3, 4, 5]\n"
     ]
    }
   ],
   "source": [
    "list_a = list([1,2,3,4,5])\n",
    "list_b  = list_a.copy()\n",
    "list_b[0] = 100\n",
    "##元のlist_aは更新されない\n",
    "print(list_a)\n",
    "print(list_b)"
   ]
  },
  {
   "cell_type": "markdown",
   "metadata": {},
   "source": [
    "グローバル変数とローカル変数の扱いに気をつける。関数でグローバル変数を扱う時は、gloablで宣言しておく必要あり。"
   ]
  },
  {
   "cell_type": "code",
   "execution_count": 52,
   "metadata": {},
   "outputs": [
    {
     "name": "stdout",
     "output_type": "stream",
     "text": [
      "fruts\n",
      "Next kind is  water\n",
      "water\n"
     ]
    }
   ],
   "source": [
    "animal = 'fruts'\n",
    "\n",
    "def change_kinds():\n",
    "    ##globalで宣言\n",
    "    global animal\n",
    "    animal = 'water'\n",
    "    return print('Next kind is ' , animal)\n",
    "    \n",
    "print(animal)\n",
    "change_kinds()\n",
    "print(animal)"
   ]
  },
  {
   "cell_type": "markdown",
   "metadata": {},
   "source": [
    "エラー処理とtry , except<br>\n",
    "エラーは組み込みのエラー宣言ではなく、try,exceptで関数などを実行させて、出てくるエラーをしておけばデバックが簡単になる<br>\n",
    "exceptでエラー名を指定しておく必要あり。"
   ]
  },
  {
   "cell_type": "code",
   "execution_count": 53,
   "metadata": {},
   "outputs": [
    {
     "name": "stdout",
     "output_type": "stream",
     "text": [
      "position select?(select q to quit)1\n",
      "2\n",
      "position select?(select q to quit)3\n",
      "Bad index 3\n",
      "position select?(select q to quit)2\n",
      "3\n",
      "position select?(select q to quit)one\n",
      "please input number invalid literal for int() with base 10: 'one'\n",
      "position select?(select q to quit)q\n"
     ]
    }
   ],
   "source": [
    "short_list  =[1,2,3]\n",
    "while True:\n",
    "    value = input('position select?(select q to quit)' )\n",
    "    if value =='q':\n",
    "        break\n",
    "    try:\n",
    "        position = int(value)\n",
    "        print(short_list[position])\n",
    "        \n",
    "    except IndexError as index_error:\n",
    "        print('Bad index' , position)\n",
    "    \n",
    "    except Exception as exception_error:\n",
    "        print('please input number' , exception_error)"
   ]
  },
  {
   "cell_type": "code",
   "execution_count": null,
   "metadata": {},
   "outputs": [],
   "source": []
  },
  {
   "cell_type": "code",
   "execution_count": 54,
   "metadata": {},
   "outputs": [
    {
     "data": {
      "text/plain": [
       "140"
      ]
     },
     "execution_count": 54,
     "metadata": {},
     "output_type": "execute_result"
    }
   ],
   "source": [
    "a = np.array([1,2,3])\n",
    "b=  np.array([10,20,30])\n",
    "a.dot(b)"
   ]
  },
  {
   "cell_type": "code",
   "execution_count": null,
   "metadata": {},
   "outputs": [],
   "source": [
    "import numpy as np\n",
    "\n",
    "class Perceptron(object):\n",
    "    def __init__(self, eta=0.01, n_iter=10):\n",
    "        self.eta = eta\n",
    "        self.n_iter = n_iter\n",
    "\n",
    "    def fit(self, X, y):\n",
    "        self.w_ = np.zeros(1 + X.shape[1])\n",
    "        self.errors_ = []\n",
    "\n",
    "        for _ in range(self.n_iter):\n",
    "            errors = 0\n",
    "            for xi, target in zip(X, y):\n",
    "                update = self.eta * (target - self.predict(xi))\n",
    "                self.w_[1:] += update * xi\n",
    "                self.w_[0] += update\n",
    "                errors += int(update != 0.0)\n",
    "            self.errors_.append(errors)\n",
    "        return self\n",
    "\n",
    "    def net_input(self, X):\n",
    "        return np.dot(X, self.w_[1:]) + self.w_[0]\n",
    "\n",
    "    def predict(self, X):\n",
    "        return np.where(self.net_input(X) >= 0.0, 1, -1)"
   ]
  },
  {
   "cell_type": "markdown",
   "metadata": {},
   "source": [
    "↑ def __init__(self , .....)を使うのは、こののちに使う変数を先に初期化して定義しておく目的がある。"
   ]
  },
  {
   "cell_type": "code",
   "execution_count": null,
   "metadata": {},
   "outputs": [],
   "source": []
  }
 ],
 "metadata": {
  "kernelspec": {
   "display_name": "Python 3",
   "language": "python",
   "name": "python3"
  },
  "language_info": {
   "codemirror_mode": {
    "name": "ipython",
    "version": 3
   },
   "file_extension": ".py",
   "mimetype": "text/x-python",
   "name": "python",
   "nbconvert_exporter": "python",
   "pygments_lexer": "ipython3",
   "version": "3.6.8"
  }
 },
 "nbformat": 4,
 "nbformat_minor": 2
}
